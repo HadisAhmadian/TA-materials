{
  "cells": [
    {
      "cell_type": "markdown",
      "metadata": {
        "id": "q3OH2gte435k"
      },
      "source": [
        "<div dir=ltr align=center>In the name of God</div>\n",
        "<br>\n",
        "<font size=6><div dir=ltr align=center>\n",
        "<font size=5>\n",
        "Intelligent Analysis of\n",
        "Biomedical Images\n",
        "<br>\n",
        "<font size=4>\n",
        "sharif university of technology, CE department\n",
        "</font>\n",
        "<br>\n",
        "<br>\n",
        "<font size=6>\n",
        "Homework 1.1\n",
        "</font><br>\n",
        "<font size=4>\n",
        "Classic methods\n",
        "</font>"
      ]
    },
    {
      "cell_type": "markdown",
      "metadata": {
        "id": "YgCdC-K67QXK"
      },
      "source": [
        "**First-Name:**\n",
        "\n",
        "**Last-Name:**\n",
        "\n",
        "**Student-Id:**"
      ]
    },
    {
      "cell_type": "markdown",
      "metadata": {
        "id": "Rz41I8BW8LRY"
      },
      "source": [
        "## Imoports and installs"
      ]
    },
    {
      "cell_type": "code",
      "execution_count": null,
      "metadata": {
        "colab": {
          "base_uri": "https://localhost:8080/"
        },
        "id": "sEvFKni5MfS0",
        "outputId": "c880d2c3-7f90-49df-d8e5-444d46effd0c"
      },
      "outputs": [
        {
          "name": "stdout",
          "output_type": "stream",
          "text": [
            "Collecting pydicom\n",
            "  Downloading pydicom-2.4.3-py3-none-any.whl (1.8 MB)\n",
            "\u001b[?25l     \u001b[90m━━━━━━━━━━━━━━━━━━━━━━━━━━━━━━━━━━━━━━━━\u001b[0m \u001b[32m0.0/1.8 MB\u001b[0m \u001b[31m?\u001b[0m eta \u001b[36m-:--:--\u001b[0m\r\u001b[2K     \u001b[91m━━━━\u001b[0m\u001b[91m╸\u001b[0m\u001b[90m━━━━━━━━━━━━━━━━━━━━━━━━━━━━━━━━━━━\u001b[0m \u001b[32m0.2/1.8 MB\u001b[0m \u001b[31m6.1 MB/s\u001b[0m eta \u001b[36m0:00:01\u001b[0m\r\u001b[2K     \u001b[91m━━━━━━━━━━━━━━━━\u001b[0m\u001b[91m╸\u001b[0m\u001b[90m━━━━━━━━━━━━━━━━━━━━━━━\u001b[0m \u001b[32m0.7/1.8 MB\u001b[0m \u001b[31m10.6 MB/s\u001b[0m eta \u001b[36m0:00:01\u001b[0m\r\u001b[2K     \u001b[91m━━━━━━━━━━━━━━━━━━━━━━━━━━━━━━━━\u001b[0m\u001b[91m╸\u001b[0m\u001b[90m━━━━━━━\u001b[0m \u001b[32m1.5/1.8 MB\u001b[0m \u001b[31m13.9 MB/s\u001b[0m eta \u001b[36m0:00:01\u001b[0m\r\u001b[2K     \u001b[90m━━━━━━━━━━━━━━━━━━━━━━━━━━━━━━━━━━━━━━━━\u001b[0m \u001b[32m1.8/1.8 MB\u001b[0m \u001b[31m13.5 MB/s\u001b[0m eta \u001b[36m0:00:00\u001b[0m\n",
            "\u001b[?25hInstalling collected packages: pydicom\n",
            "Successfully installed pydicom-2.4.3\n"
          ]
        }
      ],
      "source": [
        "!pip install pydicom"
      ]
    },
    {
      "cell_type": "code",
      "execution_count": null,
      "metadata": {
        "id": "0ySJKFwy8LaV"
      },
      "outputs": [],
      "source": [
        "import numpy as np\n",
        "from pydicom import dcmread\n",
        "import matplotlib.pyplot as plt\n",
        "import cv2"
      ]
    },
    {
      "cell_type": "markdown",
      "metadata": {
        "id": "yi4RU76S2gGA"
      },
      "source": [
        "## load and work with DICOM (5)"
      ]
    },
    {
      "cell_type": "markdown",
      "metadata": {
        "id": "SKwZNPXpFMSF"
      },
      "source": [
        "complete the function `load_I` it should recive the file name and load the provided DICOM file, print its content and return the image in it."
      ]
    },
    {
      "cell_type": "code",
      "execution_count": null,
      "metadata": {
        "id": "-WKf8P7-yaWy"
      },
      "outputs": [],
      "source": [
        "def load_I(name):\n",
        "  pass\n",
        "\n",
        "I=load_I(\"img.dcm\")"
      ]
    },
    {
      "cell_type": "markdown",
      "metadata": {
        "id": "isMJa77tmvU_"
      },
      "source": [
        "The cell below, adds some noise to the original image, don't change this code and run the cell."
      ]
    },
    {
      "cell_type": "code",
      "execution_count": null,
      "metadata": {
        "id": "nLmZu_CBmvjF"
      },
      "outputs": [],
      "source": [
        "def add_salt_and_pepper_noise(image, noise_ratio=0.02):\n",
        "    noisy_image = image.copy()\n",
        "    h, w= noisy_image.shape\n",
        "    noisy_pixels = int(h * w * noise_ratio)\n",
        "\n",
        "    for _ in range(noisy_pixels):\n",
        "        row, col = np.random.randint(0, h), np.random.randint(0, w)\n",
        "        if np.random.rand() < 0.5:\n",
        "            noisy_image[row, col] = 0\n",
        "        else:\n",
        "            noisy_image[row, col] = 255\n",
        "\n",
        "    return noisy_image\n",
        "\n",
        "I=add_salt_and_pepper_noise(I)\n",
        "plt.imshow(I, cmap=\"gray\")\n",
        "plt.show()"
      ]
    },
    {
      "cell_type": "markdown",
      "metadata": {
        "id": "vTI5Ol4T2muj"
      },
      "source": [
        "## Deniosing (25)"
      ]
    },
    {
      "cell_type": "markdown",
      "metadata": {
        "id": "_mvmGdiqnKpF"
      },
      "source": [
        "In last section we added some noise to the original image, now you are expected to denoise the noisy image using two diffrent approaches.\n",
        "1. for the first method you should implement a frequency filter for denoising (low pass filter)\n",
        "2. for the second method with respect to the nature of the noise we added, you are expected to choose a spatial filter that can reduce the noise. the result depends on the filter you choose and it is expexted that the spatial filter removes as much noise as possible.\n",
        "\n",
        "you can visualize the denoised results at the end of this section to determine if your methods were succesfull.\n",
        "\n",
        "then you should compare the results and choose the better denoised image."
      ]
    },
    {
      "cell_type": "markdown",
      "metadata": {
        "id": "s68c7vVQ3lyH"
      },
      "source": [
        "### 1) denoising using frequency filters (15)\n",
        "In this section you are expected to complete the function `low_pass`. function recieves niosy image `I`, converts it to frequncy domain using fourier transform, applys a low pass filter and converts it back to space domain and then returns the result (denoised image) `I_df`."
      ]
    },
    {
      "cell_type": "code",
      "execution_count": null,
      "metadata": {
        "id": "QZt7vQrq3ype"
      },
      "outputs": [],
      "source": [
        "def low_pass(I):\n",
        "  pass\n",
        "\n",
        "\n",
        "I_df=low_pass(I)"
      ]
    },
    {
      "cell_type": "markdown",
      "metadata": {
        "id": "9R9uc2f_2qEd"
      },
      "source": [
        "### 2) denoising using spatial filters (5)\n",
        "\n",
        "In this section you are expected to complete the function `denoise_spatial`. function recieves niosy image `I`, applies a spatial filter on it to denoise it and returns the denoised image `I_ds`."
      ]
    },
    {
      "cell_type": "code",
      "execution_count": null,
      "metadata": {
        "id": "wbMHWKGc3lBi"
      },
      "outputs": [],
      "source": [
        "def denoise_spatial(I):\n",
        "  pass\n",
        "\n",
        "\n",
        "I_ds=denoise_spatial(I)"
      ]
    },
    {
      "cell_type": "code",
      "execution_count": null,
      "metadata": {
        "id": "gRQOBVtrrcL3"
      },
      "outputs": [],
      "source": [
        "plt.subplot(121),plt.imshow(I_ds, cmap = 'gray')\n",
        "plt.title('denoise_spatial'), plt.xticks([]), plt.yticks([])\n",
        "plt.subplot(122),plt.imshow(I_df, cmap = 'gray')\n",
        "plt.title('low_pass'), plt.xticks([]), plt.yticks([])\n",
        "plt.show()"
      ]
    },
    {
      "cell_type": "markdown",
      "metadata": {
        "id": "sjazZyJ_sYSs"
      },
      "source": [
        "### Question (5)\n",
        "\n",
        "wich denoising method performed better? how is it related to the type and nature of the noise?\n",
        "\n",
        "assign your chosen result of denoising to `I` for next section."
      ]
    },
    {
      "cell_type": "code",
      "execution_count": null,
      "metadata": {
        "id": "OdwHVLNWs-bP"
      },
      "outputs": [],
      "source": [
        "#I=I_ds\n",
        "#I=I_df"
      ]
    },
    {
      "cell_type": "markdown",
      "metadata": {
        "id": "hCFLlz3d3xyB"
      },
      "source": [
        "## Global Sharpening (15)"
      ]
    },
    {
      "cell_type": "markdown",
      "metadata": {
        "id": "wtcxvKGgurVK"
      },
      "source": [
        "Denoising images usualy result in less detailed blury images, therfore it is desirable to sharpen the denoised image.\n",
        "for this means we have to amplify image details by first extracting them and then adding them to the image.\n",
        "\n",
        "in this section you are expected to sharpen the image as described, once by using high pass filter and once by a spatial filter that can extract details (like edge detection filters)."
      ]
    },
    {
      "cell_type": "markdown",
      "metadata": {
        "id": "upg_XrfX38Ow"
      },
      "source": [
        "### 1) sharpening using high pass filter (10)\n",
        "complete the function `high_pass`.it recives image `I` converts it to frequncy domain using fourier transform, applies a high pass filter and converts it back to space domain and then returns the result (details of the image) `detail_I`.\n",
        "\n",
        "hint: you can use the low pass filter you implemented earlier."
      ]
    },
    {
      "cell_type": "code",
      "execution_count": null,
      "metadata": {
        "id": "_VhVO-uq4jKy"
      },
      "outputs": [],
      "source": [
        "def high_pass(I):\n",
        "  pass\n",
        "\n",
        "detail_I = high_pass(I)\n",
        "I_sharp_hi=I+detail_I"
      ]
    },
    {
      "cell_type": "markdown",
      "metadata": {},
      "source": [
        "### 2) sharpening using a spatial filter (5)\n",
        "complete the function `detail_spatial`.it recives image `I` applies a spatial filter on it that can extract image details and returns the result (details of the image) `detail_I`.\n",
        "\n",
        "hint: search for edge detection spatial filters."
      ]
    },
    {
      "cell_type": "code",
      "execution_count": null,
      "metadata": {
        "id": "9oCXL4qW38Ow"
      },
      "outputs": [],
      "source": [
        "def detail_spatial(I):\n",
        "  pass\n",
        "\n",
        "detail_I = detail_spatial(I)\n",
        "I_sharp_spatial=I+detail_I"
      ]
    },
    {
      "cell_type": "code",
      "execution_count": null,
      "metadata": {
        "id": "IINKwSRB38Ox"
      },
      "outputs": [],
      "source": [
        "plt.subplot(121),plt.imshow(I_sharp_hi, cmap = 'gray')\n",
        "plt.title('I_sharp_hi'), plt.xticks([]), plt.yticks([])\n",
        "plt.subplot(122),plt.imshow(I_sharp_spatial, cmap = 'gray')\n",
        "plt.title('I_sharp_spatial'), plt.xticks([]), plt.yticks([])\n",
        "plt.show()"
      ]
    },
    {
      "cell_type": "markdown",
      "metadata": {
        "id": "UIZbNfQa6vCb"
      },
      "source": [
        "## Multi-scale image enhancement (40)"
      ]
    },
    {
      "cell_type": "markdown",
      "metadata": {
        "id": "0bGKvzFk4nCV"
      },
      "source": [
        "In this section you are expected to implement multi-scale image enhancement. You should build pyramid of detail with your preferd enhancment method (you can use the high pass filter you implemented) and add it to the original image level by level.\n",
        "\n",
        "complete the function `multi_enhance`. it recives the image `I` performs the explained enhancment and returns the result.\n",
        "\n",
        "you can write other functions as needed to be called in the `multi_enhance` function."
      ]
    },
    {
      "cell_type": "code",
      "execution_count": null,
      "metadata": {
        "id": "05eCLmrE4mdS"
      },
      "outputs": [],
      "source": [
        "def multi_enhance(I):\n",
        "  pass\n",
        "\n",
        "I_e=multi_enhance(I)\n",
        "\n",
        "plt.subplot(121),plt.imshow(I, cmap = 'gray')\n",
        "plt.title('I'), plt.xticks([]), plt.yticks([])\n",
        "plt.subplot(122),plt.imshow(I_e, cmap = 'gray')\n",
        "plt.title('I_e'), plt.xticks([]), plt.yticks([])\n",
        "plt.show()\n",
        "\n",
        "I=I_e"
      ]
    },
    {
      "cell_type": "markdown",
      "metadata": {
        "id": "YCCKZfSB4uSX"
      },
      "source": [
        "## Gray level enhancment (15)"
      ]
    },
    {
      "cell_type": "markdown",
      "metadata": {
        "id": "Sz4qnV-9EtXt"
      },
      "source": [
        "using gray level enhancment try to enhance the contrast of last sections result.\n",
        "you have to complete the function `gray_enhance` it recives an image `I` and returns the enhanced image `I_c`"
      ]
    },
    {
      "cell_type": "code",
      "execution_count": null,
      "metadata": {
        "id": "XASPpKE6_MOp"
      },
      "outputs": [],
      "source": [
        "def gray_enhance(I):\n",
        "  pass\n",
        "\n",
        "I_c=gray_enhance(I)\n",
        "plt.subplot(121),plt.imshow(I, cmap = 'gray')\n",
        "plt.title('I'), plt.xticks([]), plt.yticks([])\n",
        "plt.subplot(122),plt.imshow(I_c, cmap = 'gray')\n",
        "plt.title('I_c'), plt.xticks([]), plt.yticks([])\n",
        "plt.show()"
      ]
    }
  ],
  "metadata": {
    "colab": {
      "provenance": []
    },
    "kernelspec": {
      "display_name": "Python 3",
      "name": "python3"
    },
    "language_info": {
      "name": "python"
    }
  },
  "nbformat": 4,
  "nbformat_minor": 0
}
